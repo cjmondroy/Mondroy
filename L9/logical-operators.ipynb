{
 "cells": [
  {
   "cell_type": "markdown",
   "metadata": {},
   "source": [
    "# Logical Operators  <hr style = \"border:2.5px solid #F22167\"></hr>\n"
   ]
  },
  {
   "cell_type": "markdown",
   "metadata": {},
   "source": [
    "Data Analyst: Christian June G. Mondroy <br>\n",
    "Department: Electrical Engineering"
   ]
  },
  {
   "cell_type": "markdown",
   "metadata": {},
   "source": [
    "# Logical AND"
   ]
  },
  {
   "cell_type": "code",
   "execution_count": 10,
   "metadata": {},
   "outputs": [
    {
     "name": "stdout",
     "output_type": "stream",
     "text": [
      "both are true\n"
     ]
    }
   ],
   "source": [
    "# a AND b must be True.\n",
    "a = True\n",
    "b = True\n",
    "\n",
    "if a and b:\n",
    "    print(\"both are true\")\n",
    "else:\n",
    "    print(\"at least one is false\")"
   ]
  },
  {
   "cell_type": "code",
   "execution_count": 11,
   "metadata": {},
   "outputs": [
    {
     "name": "stdout",
     "output_type": "stream",
     "text": [
      "12 in within range of 11 to 20.\n"
     ]
    }
   ],
   "source": [
    "# Check if the a is within a range of 1 to 30.\n",
    "a = 12\n",
    "\n",
    "if (a > 0) and (a <= 10):\n",
    "    print(str(a) + \" is within the range of 1 to 10.\")\n",
    "elif (a > 10) and (a <= 20):\n",
    "    print(str(a) + \" in within range of 11 to 20.\")\n",
    "elif (a > 20) and (a <= 30):\n",
    "    print(str(a) + \" is withint the range 21 to 30.\")\n",
    "else:\n",
    "    print(\"ou of range\")"
   ]
  },
  {
   "cell_type": "markdown",
   "metadata": {},
   "source": [
    "# Logical OR"
   ]
  },
  {
   "cell_type": "code",
   "execution_count": 12,
   "metadata": {},
   "outputs": [
    {
     "name": "stdout",
     "output_type": "stream",
     "text": [
      "at least one is true\n"
     ]
    }
   ],
   "source": [
    "# either a OR b must be True.\n",
    "a = True\n",
    "b = False\n",
    "if a or b:\n",
    "    print(\"at least one is true\")\n",
    "else:\n",
    "    print(\"both are false\")"
   ]
  },
  {
   "cell_type": "code",
   "execution_count": 13,
   "metadata": {},
   "outputs": [
    {
     "name": "stdout",
     "output_type": "stream",
     "text": [
      "It's a great day to go outside!\n"
     ]
    }
   ],
   "source": [
    "# Go outside or stay indoors.\n",
    "weather = \"sunny\"\n",
    "\n",
    "if (weather == \"rainy\") or (weather == \"stormy\"):\n",
    "    print(\"Bring an umbrella or stay indoors!\")\n",
    "elif (weather == \"sunny\") or (weather == \"clear\"):\n",
    "    print(\"It's a great day to go outside!\")\n",
    "else:\n",
    "    print(\"The weather is unpredictable today\")"
   ]
  },
  {
   "cell_type": "markdown",
   "metadata": {},
   "source": [
    "# Logical NOT"
   ]
  },
  {
   "cell_type": "code",
   "execution_count": 14,
   "metadata": {},
   "outputs": [
    {
     "data": {
      "text/plain": [
       "False"
      ]
     },
     "execution_count": 14,
     "metadata": {},
     "output_type": "execute_result"
    }
   ],
   "source": [
    "# negates the logical state.\n",
    "a = True\n",
    "\n",
    "not a"
   ]
  },
  {
   "cell_type": "code",
   "execution_count": 15,
   "metadata": {},
   "outputs": [
    {
     "name": "stdout",
     "output_type": "stream",
     "text": [
      "8 is odd\n"
     ]
    }
   ],
   "source": [
    "# Odd or even number.\n",
    "a = 8\n",
    "\n",
    "if not(a % 2 ==0):\n",
    "    print(str(a) + \" is even\")\n",
    "else:\n",
    "    print(str(a) + \" is odd\")"
   ]
  }
 ],
 "metadata": {
  "kernelspec": {
   "display_name": "Python 3",
   "language": "python",
   "name": "python3"
  },
  "language_info": {
   "codemirror_mode": {
    "name": "ipython",
    "version": 3
   },
   "file_extension": ".py",
   "mimetype": "text/x-python",
   "name": "python",
   "nbconvert_exporter": "python",
   "pygments_lexer": "ipython3",
   "version": "3.9.0"
  }
 },
 "nbformat": 4,
 "nbformat_minor": 2
}
